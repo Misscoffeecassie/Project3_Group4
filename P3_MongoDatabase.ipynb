{
 "cells": [
  {
   "cell_type": "code",
   "execution_count": 4,
   "id": "d5aca895",
   "metadata": {},
   "outputs": [],
   "source": [
    "from pymongo import MongoClient\n",
    "from pprint import pprint\n",
    "from flask import Flask, jsonify,render_template"
   ]
  },
  {
   "cell_type": "code",
   "execution_count": 5,
   "id": "a093c3fd",
   "metadata": {},
   "outputs": [],
   "source": [
    "# Create an instance of MongoClient\n",
    "mongo = MongoClient(port=27017)"
   ]
  },
  {
   "cell_type": "code",
   "execution_count": 6,
   "id": "7975c76f",
   "metadata": {},
   "outputs": [
    {
     "name": "stdout",
     "output_type": "stream",
     "text": [
      "['admin', 'classDB', 'config', 'dbName', 'fruits_db', 'local', 'met', 'petsitly_marketing', 'travel_db', 'uk_food']\n"
     ]
    }
   ],
   "source": [
    "# confirm that our new database was created\n",
    "print(mongo.list_database_names())"
   ]
  },
  {
   "cell_type": "code",
   "execution_count": 7,
   "id": "575e1b57",
   "metadata": {},
   "outputs": [],
   "source": [
    "# assign the greenhouse_emission database to a variable name\n",
    "db = mongo['greenhouse_emission']"
   ]
  },
  {
   "cell_type": "code",
   "execution_count": 8,
   "id": "a6184d52",
   "metadata": {},
   "outputs": [
    {
     "name": "stdout",
     "output_type": "stream",
     "text": [
      "[]\n"
     ]
    }
   ],
   "source": [
    "# review the collections in our new database\n",
    "pprint(db.list_collection_names())"
   ]
  },
  {
   "cell_type": "code",
   "execution_count": 9,
   "id": "b703c673",
   "metadata": {},
   "outputs": [],
   "source": [
    "# assign the collection to a variable\n",
    "electricity_consumption = db['electricity_consumption']\n",
    "fugitive = db['fugitive']\n",
    "lulucf = db['lulucf']\n",
    "ippu = db['ippu']\n",
    "agriculture = db['agriculture']\n",
    "electricity_generation = db['electricity_generation']\n",
    "waste = db['waste']\n",
    "transport = db['transport']\n",
    "stationary_energy = db['stationary_energy']"
   ]
  },
  {
   "cell_type": "code",
   "execution_count": 13,
   "id": "59a2f0b0",
   "metadata": {},
   "outputs": [],
   "source": [
    "# print('elec consumptions',electricity_consumption.count_documents({}))\n",
    "# print('fugitive',fugitive.count_documents({}))\n",
    "# print('lulucf',lulucf.count_documents({}))\n",
    "# print('ippu ',ippu.count_documents({}))\n",
    "# print('agriculture',agriculture.count_documents({}))\n",
    "# print('electricity_generation ',electricity_generation.count_documents({}))\n",
    "# print('waste',waste.count_documents({}))\n",
    "# print('transport',transport.count_documents({}))\n",
    "# print('stationary_energy',stationary_energy.count_documents({}))"
   ]
  },
  {
   "cell_type": "code",
   "execution_count": 10,
   "id": "c78ee54e",
   "metadata": {},
   "outputs": [
    {
     "name": "stdout",
     "output_type": "stream",
     "text": [
      " * Serving Flask app '__main__'\n",
      " * Debug mode: on\n"
     ]
    },
    {
     "name": "stderr",
     "output_type": "stream",
     "text": [
      "WARNING: This is a development server. Do not use it in a production deployment. Use a production WSGI server instead.\n",
      " * Running on http://127.0.0.1:5000\n",
      "Press CTRL+C to quit\n",
      " * Restarting with stat\n"
     ]
    },
    {
     "ename": "SystemExit",
     "evalue": "1",
     "output_type": "error",
     "traceback": [
      "An exception has occurred, use %tb to see the full traceback.\n",
      "\u001b[1;31mSystemExit\u001b[0m\u001b[1;31m:\u001b[0m 1\n"
     ]
    },
    {
     "name": "stderr",
     "output_type": "stream",
     "text": [
      "C:\\Users\\kk\\AppData\\Roaming\\Python\\Python311\\site-packages\\IPython\\core\\interactiveshell.py:3513: UserWarning: To exit: use 'exit', 'quit', or Ctrl-D.\n",
      "  warn(\"To exit: use 'exit', 'quit', or Ctrl-D.\", stacklevel=1)\n"
     ]
    }
   ],
   "source": [
    "item_dict = {\n",
    "    \"waste\":waste.count_documents({}),\n",
    "    \"agriculture\":agriculture.count_documents({})\n",
    "}\n",
    "app = Flask(__name__)\n",
    "\n",
    "@app.route(\"/\")\n",
    "def index():\n",
    "    \"\"\"List all available api routes.\"\"\"\n",
    "    return render_template(\"index.html\")\n",
    "    \n",
    "@app.route(\"/api/items\")\n",
    "def get_items():\n",
    "    return jsonify(item_dict)\n",
    "\n",
    "if __name__ == '__main__':\n",
    "    app.run(debug=True)"
   ]
  },
  {
   "cell_type": "code",
   "execution_count": null,
   "id": "63919dda",
   "metadata": {},
   "outputs": [],
   "source": []
  }
 ],
 "metadata": {
  "kernelspec": {
   "display_name": "kkdev",
   "language": "python",
   "name": "python3"
  },
  "language_info": {
   "codemirror_mode": {
    "name": "ipython",
    "version": 3
   },
   "file_extension": ".py",
   "mimetype": "text/x-python",
   "name": "python",
   "nbconvert_exporter": "python",
   "pygments_lexer": "ipython3",
   "version": "3.11.3"
  }
 },
 "nbformat": 4,
 "nbformat_minor": 5
}
